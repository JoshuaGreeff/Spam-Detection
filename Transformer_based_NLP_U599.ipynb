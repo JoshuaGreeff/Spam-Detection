{
 "cells": [
  {
   "cell_type": "markdown",
   "metadata": {
    "colab_type": "text",
    "id": "view-in-github"
   },
   "source": [
    "<a href=\"https://colab.research.google.com/github/JoshuaGreeff/Spam-Detection/blob/main/Transformer_based_NLP_U599.ipynb\" target=\"_parent\"><img src=\"https://colab.research.google.com/assets/colab-badge.svg\" alt=\"Open In Colab\"/></a>"
   ]
  },
  {
   "cell_type": "code",
   "execution_count": null,
   "metadata": {
    "colab": {
     "base_uri": "https://localhost:8080/"
    },
    "id": "_37LbcJgDCdV",
    "outputId": "18696429-ae63-422e-ac11-c7aabb4cc0b3"
   },
   "outputs": [
    {
     "name": "stdout",
     "output_type": "stream",
     "text": [
      "Mounted at /content/drive\n",
      "/root/testing\n",
      "Wed Mar  5 14:08:10 2025       \n",
      "+-----------------------------------------------------------------------------------------+\n",
      "| NVIDIA-SMI 550.54.15              Driver Version: 550.54.15      CUDA Version: 12.4     |\n",
      "|-----------------------------------------+------------------------+----------------------+\n",
      "| GPU  Name                 Persistence-M | Bus-Id          Disp.A | Volatile Uncorr. ECC |\n",
      "| Fan  Temp   Perf          Pwr:Usage/Cap |           Memory-Usage | GPU-Util  Compute M. |\n",
      "|                                         |                        |               MIG M. |\n",
      "|=========================================+========================+======================|\n",
      "|   0  Tesla T4                       Off |   00000000:00:04.0 Off |                    0 |\n",
      "| N/A   55C    P8              9W /   70W |       0MiB /  15360MiB |      0%      Default |\n",
      "|                                         |                        |                  N/A |\n",
      "+-----------------------------------------+------------------------+----------------------+\n",
      "                                                                                         \n",
      "+-----------------------------------------------------------------------------------------+\n",
      "| Processes:                                                                              |\n",
      "|  GPU   GI   CI        PID   Type   Process name                              GPU Memory |\n",
      "|        ID   ID                                                               Usage      |\n",
      "|=========================================================================================|\n",
      "|  No running processes found                                                             |\n",
      "+-----------------------------------------------------------------------------------------+\n"
     ]
    }
   ],
   "source": [
    "# Set up Kaggle config and base directory\n",
    "import os\n",
    "os.environ['KAGGLE_CONFIG_DIR'] = \"/content/drive/MyDrive/Kaggle\"\n",
    "base_dir = '/content/drive/MyDrive/U599 Project'\n",
    "\n",
    "# Mount Google Drive\n",
    "from google.colab import drive\n",
    "drive.mount('/content/drive')\n",
    "\n",
    "# CD to the testing directory\n",
    "%mkdir ~/testing\n",
    "%cd ~/testing\n",
    "\n",
    "# Check CUDA status\n",
    "!nvidia-smi"
   ]
  },
  {
   "cell_type": "code",
   "execution_count": null,
   "metadata": {
    "colab": {
     "base_uri": "https://localhost:8080/"
    },
    "id": "NeGQ0otYDKzr",
    "outputId": "5f4aedb2-b257-4e75-c54f-73823e9ad828"
   },
   "outputs": [
    {
     "name": "stdout",
     "output_type": "stream",
     "text": [
      "\u001b[?25l   \u001b[90m━━━━━━━━━━━━━━━━━━━━━━━━━━━━━━━━━━━━━━━━\u001b[0m \u001b[32m0.0/84.0 kB\u001b[0m \u001b[31m?\u001b[0m eta \u001b[36m-:--:--\u001b[0m\r",
      "\u001b[2K   \u001b[90m━━━━━━━━━━━━━━━━━━━━━━━━━━━━━━━━━━━━━━━━\u001b[0m \u001b[32m84.0/84.0 kB\u001b[0m \u001b[31m3.7 MB/s\u001b[0m eta \u001b[36m0:00:00\u001b[0m\n",
      "\u001b[2K   \u001b[90m━━━━━━━━━━━━━━━━━━━━━━━━━━━━━━━━━━━━━━━━\u001b[0m \u001b[32m485.4/485.4 kB\u001b[0m \u001b[31m24.5 MB/s\u001b[0m eta \u001b[36m0:00:00\u001b[0m\n",
      "\u001b[2K   \u001b[90m━━━━━━━━━━━━━━━━━━━━━━━━━━━━━━━━━━━━━━━━\u001b[0m \u001b[32m16.0/16.0 MB\u001b[0m \u001b[31m23.3 MB/s\u001b[0m eta \u001b[36m0:00:00\u001b[0m\n",
      "\u001b[2K   \u001b[90m━━━━━━━━━━━━━━━━━━━━━━━━━━━━━━━━━━━━━━━━\u001b[0m \u001b[32m694.9/694.9 kB\u001b[0m \u001b[31m27.9 MB/s\u001b[0m eta \u001b[36m0:00:00\u001b[0m\n",
      "\u001b[2K   \u001b[90m━━━━━━━━━━━━━━━━━━━━━━━━━━━━━━━━━━━━━━━━\u001b[0m \u001b[32m13.3/13.3 MB\u001b[0m \u001b[31m44.0 MB/s\u001b[0m eta \u001b[36m0:00:00\u001b[0m\n",
      "\u001b[2K   \u001b[90m━━━━━━━━━━━━━━━━━━━━━━━━━━━━━━━━━━━━━━━━\u001b[0m \u001b[32m116.3/116.3 kB\u001b[0m \u001b[31m11.1 MB/s\u001b[0m eta \u001b[36m0:00:00\u001b[0m\n",
      "\u001b[2K   \u001b[90m━━━━━━━━━━━━━━━━━━━━━━━━━━━━━━━━━━━━━━━━\u001b[0m \u001b[32m143.5/143.5 kB\u001b[0m \u001b[31m8.2 MB/s\u001b[0m eta \u001b[36m0:00:00\u001b[0m\n",
      "\u001b[2K   \u001b[90m━━━━━━━━━━━━━━━━━━━━━━━━━━━━━━━━━━━━━━━━\u001b[0m \u001b[32m46.0/46.0 kB\u001b[0m \u001b[31m3.7 MB/s\u001b[0m eta \u001b[36m0:00:00\u001b[0m\n",
      "\u001b[2K   \u001b[90m━━━━━━━━━━━━━━━━━━━━━━━━━━━━━━━━━━━━━━━━\u001b[0m \u001b[32m194.8/194.8 kB\u001b[0m \u001b[31m7.2 MB/s\u001b[0m eta \u001b[36m0:00:00\u001b[0m\n",
      "\u001b[2K   \u001b[90m━━━━━━━━━━━━━━━━━━━━━━━━━━━━━━━━━━━━━━━━\u001b[0m \u001b[32m86.8/86.8 kB\u001b[0m \u001b[31m4.4 MB/s\u001b[0m eta \u001b[36m0:00:00\u001b[0m\n",
      "\u001b[?25h"
     ]
    }
   ],
   "source": [
    "# Install necessary packages quietly\n",
    "!pip install -q evaluate datasets onnx onnxscript onnxruntime\n",
    "\n",
    "# Imports\n",
    "import torch\n",
    "import kagglehub\n",
    "import pandas as pd\n",
    "import re\n",
    "import numpy as np\n",
    "import shutil\n",
    "import datasets\n",
    "import evaluate\n",
    "import time\n",
    "\n",
    "from sklearn.model_selection import train_test_split\n",
    "from sklearn.metrics import confusion_matrix, accuracy_score, precision_score, recall_score, f1_score, roc_auc_score, log_loss\n",
    "\n",
    "from transformers import (\n",
    "    AutoTokenizer,\n",
    "    AutoModelForSequenceClassification,\n",
    "    EarlyStoppingCallback,\n",
    "    get_linear_schedule_with_warmup,\n",
    "    TrainingArguments,\n",
    "    Trainer\n",
    ")\n",
    "\n",
    "from onnxruntime import InferenceSession\n",
    "import onnx"
   ]
  },
  {
   "cell_type": "code",
   "execution_count": null,
   "metadata": {
    "colab": {
     "base_uri": "https://localhost:8080/"
    },
    "id": "Vvn3Z87_DXE0",
    "outputId": "73fe5047-15d0-49bb-f9cc-811c218fc02e"
   },
   "outputs": [
    {
     "data": {
      "text/plain": [
       "device(type='cuda')"
      ]
     },
     "execution_count": 3,
     "metadata": {},
     "output_type": "execute_result"
    }
   ],
   "source": [
    "# Set device\n",
    "device = torch.device(\"cuda\" if torch.cuda.is_available() else \"cpu\")\n",
    "device"
   ]
  },
  {
   "cell_type": "code",
   "execution_count": null,
   "metadata": {
    "colab": {
     "base_uri": "https://localhost:8080/",
     "height": 456
    },
    "id": "TridAqeYDYO6",
    "outputId": "4af3f8f0-913e-4fdb-cf53-1ba07c17811f"
   },
   "outputs": [
    {
     "name": "stdout",
     "output_type": "stream",
     "text": [
      "Downloading from https://www.kaggle.com/api/v1/datasets/download/subhajournal/phishingemails?dataset_version_number=1...\n"
     ]
    },
    {
     "name": "stderr",
     "output_type": "stream",
     "text": [
      "100%|██████████| 18.0M/18.0M [00:01<00:00, 9.67MB/s]"
     ]
    },
    {
     "name": "stdout",
     "output_type": "stream",
     "text": [
      "Extracting files...\n"
     ]
    },
    {
     "name": "stderr",
     "output_type": "stream",
     "text": [
      "\n"
     ]
    },
    {
     "name": "stdout",
     "output_type": "stream",
     "text": [
      "<class 'pandas.core.frame.DataFrame'>\n",
      "RangeIndex: 18650 entries, 0 to 18649\n",
      "Data columns (total 3 columns):\n",
      " #   Column      Non-Null Count  Dtype \n",
      "---  ------      --------------  ----- \n",
      " 0   Unnamed: 0  18650 non-null  int64 \n",
      " 1   Email Text  18634 non-null  object\n",
      " 2   Email Type  18650 non-null  object\n",
      "dtypes: int64(1), object(2)\n",
      "memory usage: 437.2+ KB\n",
      "None\n"
     ]
    },
    {
     "data": {
      "application/vnd.google.colaboratory.intrinsic+json": {
       "summary": "{\n  \"name\": \"df\",\n  \"rows\": 18650,\n  \"fields\": [\n    {\n      \"column\": \"Unnamed: 0\",\n      \"properties\": {\n        \"dtype\": \"number\",\n        \"std\": 5384,\n        \"min\": 0,\n        \"max\": 18650,\n        \"num_unique_values\": 18650,\n        \"samples\": [\n          14470,\n          3014,\n          16942\n        ],\n        \"semantic_type\": \"\",\n        \"description\": \"\"\n      }\n    },\n    {\n      \"column\": \"Email Text\",\n      \"properties\": {\n        \"dtype\": \"string\",\n        \"num_unique_values\": 17537,\n        \"samples\": [\n          \"available for review : massaro 98 - the book listed below is in the linguist office and now available for review . if you are interested in reviewing a book ( or leading a discussion of the book ) ; please contact our book review editor , andrew carnie , at : carnie @ linguistlist . org please include in your request message a brief statement about your research interests , background , affiliation and other information that might be valuable to help us select a suitable reviewer . speech perception massaro , dominic ( 1998 ) perceiving talking faces : from speech perception to a behavioral principle . cambridge : mit press . pattern recognition is deemed central to cognition . it appears to follow an optimal algorithm in a wide variety of behaviors and situations . _ perceiving talking faces _ proposes an invariant law of pattern recognition to describe how multiple sources of continuously perceived information , such as auditory and visual speech input are processed to achieve perception of a category . the book details the author 's extensive series of experiments on the use of multiple cues in speech perception and other domains , and unifies teh results under the fuzzy logical model of perception . the volume includes a cd rom . the reviewer of this volume will be expected to review both the book and the cd rom .\",\n          \"lng contracts i am seeking information on where to find copies of lng contracts that were previously in the domain of the old enron international company . enron north america will be establishing a risk book to manage lng positions on a worldwide basis and we need copies of all contracts to set this up . these contracts may or may not be related to the dabhol project . if you can provide guidance or information as to where to find these contracts , i would appreciate it . you may respond via email or call me at 713 - 853 - 6079 in houston . thank you for your attention .\",\n          \"citizens homelink online banking and investing email dear citizens customer , as a customer of citizens bank , the security of your personal and account information is extremely important to us . by practicing good security habits , you can help us ensure that your private information is protected . our new security system will help you to avoid frequently fraud transactions and to keep your investments in safety . due to technical update we recommend you to reactivate your account . to reactivate your account please start by clicking on this webpage : we appreciate your business . it ' s truly our pleasure to serve you . citizens bank customer care this email is intended for citizens bank users only . ignore it if has been arrived by mistake . member fdic equal housing lender \\u00a9 2003 citizens financial group . all rights reserved .\"\n        ],\n        \"semantic_type\": \"\",\n        \"description\": \"\"\n      }\n    },\n    {\n      \"column\": \"Email Type\",\n      \"properties\": {\n        \"dtype\": \"category\",\n        \"num_unique_values\": 2,\n        \"samples\": [\n          \"Phishing Email\",\n          \"Safe Email\"\n        ],\n        \"semantic_type\": \"\",\n        \"description\": \"\"\n      }\n    }\n  ]\n}",
       "type": "dataframe",
       "variable_name": "df"
      },
      "text/html": [
       "\n",
       "  <div id=\"df-8fc506a1-79b3-4cd9-b7f2-710a184a0789\" class=\"colab-df-container\">\n",
       "    <div>\n",
       "<style scoped>\n",
       "    .dataframe tbody tr th:only-of-type {\n",
       "        vertical-align: middle;\n",
       "    }\n",
       "\n",
       "    .dataframe tbody tr th {\n",
       "        vertical-align: top;\n",
       "    }\n",
       "\n",
       "    .dataframe thead th {\n",
       "        text-align: right;\n",
       "    }\n",
       "</style>\n",
       "<table border=\"1\" class=\"dataframe\">\n",
       "  <thead>\n",
       "    <tr style=\"text-align: right;\">\n",
       "      <th></th>\n",
       "      <th>Unnamed: 0</th>\n",
       "      <th>Email Text</th>\n",
       "      <th>Email Type</th>\n",
       "    </tr>\n",
       "  </thead>\n",
       "  <tbody>\n",
       "    <tr>\n",
       "      <th>0</th>\n",
       "      <td>0</td>\n",
       "      <td>re : 6 . 1100 , disc : uniformitarianism , re ...</td>\n",
       "      <td>Safe Email</td>\n",
       "    </tr>\n",
       "    <tr>\n",
       "      <th>1</th>\n",
       "      <td>1</td>\n",
       "      <td>the other side of * galicismos * * galicismo *...</td>\n",
       "      <td>Safe Email</td>\n",
       "    </tr>\n",
       "    <tr>\n",
       "      <th>2</th>\n",
       "      <td>2</td>\n",
       "      <td>re : equistar deal tickets are you still avail...</td>\n",
       "      <td>Safe Email</td>\n",
       "    </tr>\n",
       "    <tr>\n",
       "      <th>3</th>\n",
       "      <td>3</td>\n",
       "      <td>\\nHello I am your hot lil horny toy.\\n    I am...</td>\n",
       "      <td>Phishing Email</td>\n",
       "    </tr>\n",
       "    <tr>\n",
       "      <th>4</th>\n",
       "      <td>4</td>\n",
       "      <td>software at incredibly low prices ( 86 % lower...</td>\n",
       "      <td>Phishing Email</td>\n",
       "    </tr>\n",
       "  </tbody>\n",
       "</table>\n",
       "</div>\n",
       "    <div class=\"colab-df-buttons\">\n",
       "\n",
       "  <div class=\"colab-df-container\">\n",
       "    <button class=\"colab-df-convert\" onclick=\"convertToInteractive('df-8fc506a1-79b3-4cd9-b7f2-710a184a0789')\"\n",
       "            title=\"Convert this dataframe to an interactive table.\"\n",
       "            style=\"display:none;\">\n",
       "\n",
       "  <svg xmlns=\"http://www.w3.org/2000/svg\" height=\"24px\" viewBox=\"0 -960 960 960\">\n",
       "    <path d=\"M120-120v-720h720v720H120Zm60-500h600v-160H180v160Zm220 220h160v-160H400v160Zm0 220h160v-160H400v160ZM180-400h160v-160H180v160Zm440 0h160v-160H620v160ZM180-180h160v-160H180v160Zm440 0h160v-160H620v160Z\"/>\n",
       "  </svg>\n",
       "    </button>\n",
       "\n",
       "  <style>\n",
       "    .colab-df-container {\n",
       "      display:flex;\n",
       "      gap: 12px;\n",
       "    }\n",
       "\n",
       "    .colab-df-convert {\n",
       "      background-color: #E8F0FE;\n",
       "      border: none;\n",
       "      border-radius: 50%;\n",
       "      cursor: pointer;\n",
       "      display: none;\n",
       "      fill: #1967D2;\n",
       "      height: 32px;\n",
       "      padding: 0 0 0 0;\n",
       "      width: 32px;\n",
       "    }\n",
       "\n",
       "    .colab-df-convert:hover {\n",
       "      background-color: #E2EBFA;\n",
       "      box-shadow: 0px 1px 2px rgba(60, 64, 67, 0.3), 0px 1px 3px 1px rgba(60, 64, 67, 0.15);\n",
       "      fill: #174EA6;\n",
       "    }\n",
       "\n",
       "    .colab-df-buttons div {\n",
       "      margin-bottom: 4px;\n",
       "    }\n",
       "\n",
       "    [theme=dark] .colab-df-convert {\n",
       "      background-color: #3B4455;\n",
       "      fill: #D2E3FC;\n",
       "    }\n",
       "\n",
       "    [theme=dark] .colab-df-convert:hover {\n",
       "      background-color: #434B5C;\n",
       "      box-shadow: 0px 1px 3px 1px rgba(0, 0, 0, 0.15);\n",
       "      filter: drop-shadow(0px 1px 2px rgba(0, 0, 0, 0.3));\n",
       "      fill: #FFFFFF;\n",
       "    }\n",
       "  </style>\n",
       "\n",
       "    <script>\n",
       "      const buttonEl =\n",
       "        document.querySelector('#df-8fc506a1-79b3-4cd9-b7f2-710a184a0789 button.colab-df-convert');\n",
       "      buttonEl.style.display =\n",
       "        google.colab.kernel.accessAllowed ? 'block' : 'none';\n",
       "\n",
       "      async function convertToInteractive(key) {\n",
       "        const element = document.querySelector('#df-8fc506a1-79b3-4cd9-b7f2-710a184a0789');\n",
       "        const dataTable =\n",
       "          await google.colab.kernel.invokeFunction('convertToInteractive',\n",
       "                                                    [key], {});\n",
       "        if (!dataTable) return;\n",
       "\n",
       "        const docLinkHtml = 'Like what you see? Visit the ' +\n",
       "          '<a target=\"_blank\" href=https://colab.research.google.com/notebooks/data_table.ipynb>data table notebook</a>'\n",
       "          + ' to learn more about interactive tables.';\n",
       "        element.innerHTML = '';\n",
       "        dataTable['output_type'] = 'display_data';\n",
       "        await google.colab.output.renderOutput(dataTable, element);\n",
       "        const docLink = document.createElement('div');\n",
       "        docLink.innerHTML = docLinkHtml;\n",
       "        element.appendChild(docLink);\n",
       "      }\n",
       "    </script>\n",
       "  </div>\n",
       "\n",
       "\n",
       "<div id=\"df-f54be672-41d6-42e7-8e00-0f150070738c\">\n",
       "  <button class=\"colab-df-quickchart\" onclick=\"quickchart('df-f54be672-41d6-42e7-8e00-0f150070738c')\"\n",
       "            title=\"Suggest charts\"\n",
       "            style=\"display:none;\">\n",
       "\n",
       "<svg xmlns=\"http://www.w3.org/2000/svg\" height=\"24px\"viewBox=\"0 0 24 24\"\n",
       "     width=\"24px\">\n",
       "    <g>\n",
       "        <path d=\"M19 3H5c-1.1 0-2 .9-2 2v14c0 1.1.9 2 2 2h14c1.1 0 2-.9 2-2V5c0-1.1-.9-2-2-2zM9 17H7v-7h2v7zm4 0h-2V7h2v10zm4 0h-2v-4h2v4z\"/>\n",
       "    </g>\n",
       "</svg>\n",
       "  </button>\n",
       "\n",
       "<style>\n",
       "  .colab-df-quickchart {\n",
       "      --bg-color: #E8F0FE;\n",
       "      --fill-color: #1967D2;\n",
       "      --hover-bg-color: #E2EBFA;\n",
       "      --hover-fill-color: #174EA6;\n",
       "      --disabled-fill-color: #AAA;\n",
       "      --disabled-bg-color: #DDD;\n",
       "  }\n",
       "\n",
       "  [theme=dark] .colab-df-quickchart {\n",
       "      --bg-color: #3B4455;\n",
       "      --fill-color: #D2E3FC;\n",
       "      --hover-bg-color: #434B5C;\n",
       "      --hover-fill-color: #FFFFFF;\n",
       "      --disabled-bg-color: #3B4455;\n",
       "      --disabled-fill-color: #666;\n",
       "  }\n",
       "\n",
       "  .colab-df-quickchart {\n",
       "    background-color: var(--bg-color);\n",
       "    border: none;\n",
       "    border-radius: 50%;\n",
       "    cursor: pointer;\n",
       "    display: none;\n",
       "    fill: var(--fill-color);\n",
       "    height: 32px;\n",
       "    padding: 0;\n",
       "    width: 32px;\n",
       "  }\n",
       "\n",
       "  .colab-df-quickchart:hover {\n",
       "    background-color: var(--hover-bg-color);\n",
       "    box-shadow: 0 1px 2px rgba(60, 64, 67, 0.3), 0 1px 3px 1px rgba(60, 64, 67, 0.15);\n",
       "    fill: var(--button-hover-fill-color);\n",
       "  }\n",
       "\n",
       "  .colab-df-quickchart-complete:disabled,\n",
       "  .colab-df-quickchart-complete:disabled:hover {\n",
       "    background-color: var(--disabled-bg-color);\n",
       "    fill: var(--disabled-fill-color);\n",
       "    box-shadow: none;\n",
       "  }\n",
       "\n",
       "  .colab-df-spinner {\n",
       "    border: 2px solid var(--fill-color);\n",
       "    border-color: transparent;\n",
       "    border-bottom-color: var(--fill-color);\n",
       "    animation:\n",
       "      spin 1s steps(1) infinite;\n",
       "  }\n",
       "\n",
       "  @keyframes spin {\n",
       "    0% {\n",
       "      border-color: transparent;\n",
       "      border-bottom-color: var(--fill-color);\n",
       "      border-left-color: var(--fill-color);\n",
       "    }\n",
       "    20% {\n",
       "      border-color: transparent;\n",
       "      border-left-color: var(--fill-color);\n",
       "      border-top-color: var(--fill-color);\n",
       "    }\n",
       "    30% {\n",
       "      border-color: transparent;\n",
       "      border-left-color: var(--fill-color);\n",
       "      border-top-color: var(--fill-color);\n",
       "      border-right-color: var(--fill-color);\n",
       "    }\n",
       "    40% {\n",
       "      border-color: transparent;\n",
       "      border-right-color: var(--fill-color);\n",
       "      border-top-color: var(--fill-color);\n",
       "    }\n",
       "    60% {\n",
       "      border-color: transparent;\n",
       "      border-right-color: var(--fill-color);\n",
       "    }\n",
       "    80% {\n",
       "      border-color: transparent;\n",
       "      border-right-color: var(--fill-color);\n",
       "      border-bottom-color: var(--fill-color);\n",
       "    }\n",
       "    90% {\n",
       "      border-color: transparent;\n",
       "      border-bottom-color: var(--fill-color);\n",
       "    }\n",
       "  }\n",
       "</style>\n",
       "\n",
       "  <script>\n",
       "    async function quickchart(key) {\n",
       "      const quickchartButtonEl =\n",
       "        document.querySelector('#' + key + ' button');\n",
       "      quickchartButtonEl.disabled = true;  // To prevent multiple clicks.\n",
       "      quickchartButtonEl.classList.add('colab-df-spinner');\n",
       "      try {\n",
       "        const charts = await google.colab.kernel.invokeFunction(\n",
       "            'suggestCharts', [key], {});\n",
       "      } catch (error) {\n",
       "        console.error('Error during call to suggestCharts:', error);\n",
       "      }\n",
       "      quickchartButtonEl.classList.remove('colab-df-spinner');\n",
       "      quickchartButtonEl.classList.add('colab-df-quickchart-complete');\n",
       "    }\n",
       "    (() => {\n",
       "      let quickchartButtonEl =\n",
       "        document.querySelector('#df-f54be672-41d6-42e7-8e00-0f150070738c button');\n",
       "      quickchartButtonEl.style.display =\n",
       "        google.colab.kernel.accessAllowed ? 'block' : 'none';\n",
       "    })();\n",
       "  </script>\n",
       "</div>\n",
       "\n",
       "    </div>\n",
       "  </div>\n"
      ],
      "text/plain": [
       "   Unnamed: 0                                         Email Text  \\\n",
       "0           0  re : 6 . 1100 , disc : uniformitarianism , re ...   \n",
       "1           1  the other side of * galicismos * * galicismo *...   \n",
       "2           2  re : equistar deal tickets are you still avail...   \n",
       "3           3  \\nHello I am your hot lil horny toy.\\n    I am...   \n",
       "4           4  software at incredibly low prices ( 86 % lower...   \n",
       "\n",
       "       Email Type  \n",
       "0      Safe Email  \n",
       "1      Safe Email  \n",
       "2      Safe Email  \n",
       "3  Phishing Email  \n",
       "4  Phishing Email  "
      ]
     },
     "execution_count": 4,
     "metadata": {},
     "output_type": "execute_result"
    }
   ],
   "source": [
    "# Download dataset from Kaggle and load CSV\n",
    "dataset_path = kagglehub.dataset_download(\"subhajournal/phishingemails\")\n",
    "csv_filename = os.path.join(dataset_path, \"Phishing_Email.csv\")\n",
    "df = pd.read_csv(csv_filename)\n",
    "print(df.info())\n",
    "df.head()"
   ]
  },
  {
   "cell_type": "code",
   "execution_count": null,
   "metadata": {
    "colab": {
     "base_uri": "https://localhost:8080/",
     "height": 385
    },
    "id": "kqiv46vIDfCR",
    "outputId": "21ccc8dc-746f-4538-9306-d4407bb73bf9"
   },
   "outputs": [
    {
     "name": "stdout",
     "output_type": "stream",
     "text": [
      "Data Changes Tracking:\n",
      "Original: 18650 rows\n",
      "After Removing Duplicates & Null: 17538 rows\n",
      "After Noise Removal: 15895 rows\n",
      "Final: 15895 rows\n",
      "                              Stage  Row Count\n",
      "0                          Original      18650\n",
      "1  After Removing Duplicates & Null      17538\n",
      "2               After Noise Removal      15895\n",
      "3                             Final      15895\n"
     ]
    },
    {
     "data": {
      "application/vnd.google.colaboratory.intrinsic+json": {
       "summary": "{\n  \"name\": \"df\",\n  \"rows\": 15895,\n  \"fields\": [\n    {\n      \"column\": \"Email Text\",\n      \"properties\": {\n        \"dtype\": \"string\",\n        \"num_unique_values\": 15522,\n        \"samples\": [\n          \"use amanda at httpwwwamandaorgdonnchaon friday # august # # ciaran johnston wrote hi folks i maintain a colocated server on behalf of a small group of individuals and am looking at backup solutions is it possible to get some sort of low end internal tape other solution that could be used to back up approx # gigs of data or am i just dreaming my isp does offer backups at extra cost but the only problem with that is well the extra cost what i was hoping to do was to install some kind of internal tape device then swap tapes round every month so i had an onsite backup of say the last # hours and an offsite backup of the last month is this feasible im beginning to think it isnt external devices are not an option as part of the charge for colocation is rackspace thanks ciaran irish linux users group iluglinuxie httpwwwlinuxiemailmanlistinfoilug for unsubscription information list maintainer listmasterlinuxie\",\n          \"request submitted access request for cheryl ingstad enron com you have received this email because you are listed as a security approver please click approval to review and act upon this request request id # request create date # # # # # # am requested for cheryl ingstad enron com resource name eol us backoffice data manager resource type applications\",\n          \"wndows x p home update minnesota which can clinch a wild card playoff spot with a loss by either carolina or st louis this weekend appeared on its way to retaking the lead but a holding penalty on birk the vikings were flagged nine times for # yards wiped out a # yard run by michael bennett that would have given them the ball at the green bay # just before the # minute warning the vikings # # though couldn t get what they needed from a pass defense that has struggled all season government spokesman raanan gissin said four soldiers were killed six people were taken to hospital four badly hurt one with moderate injuries and one lightly injured military sources said the sources said another soldier remained beneath the rubble gissin said rescue operations were continuing sunday night the attack indicates that unless there is decisive and sustained effort taken to dismantle the terrorist organization it will be impossible to move towards normalizations and towards political negotiations gissin told a news crew and i think the responsibility on that lies with the palestinian authority shortly after the first blast a second explosion was heard in southern gaza but its precise location was not immediately known hamas in a phone call to cnn said it had set off the first explosion near rafah in cooperation with a group called the fatah hawks there was no immediate information available on that group although it was believed to be linked to the fatah movement formerly led by the late palestinian leader yasser arafat israeli military sources said it was a coordinated attack with palestinians firing mortar shells and guns at the post when the explosives were detonated it was not clear whether there were palestinian casualties news video of the aftermath showed soldiers using stretchers to transport troops who appeared to be severely wounded in a pamphlet distributed after the attack hamas said it had used # # tons of explosives and had recorded video of the incident palestinians have used tunnels in the area to smuggle weapons from egypt israel has carried out operations to crack down on the smuggling shell explosion in schoolyard an israeli tank shell exploded in a gaza schoolyard sunday morning wounding eight palestinian schoolchildren palestinian medical and security sources said the children between the ages of # and # sustained moderate to light injuries the sources said the violence happened in khan yunis in central gaza israeli military sources said that forces in the area identified what they thought was a number of mortar shells being fired towards israeli settlements nearby in response the forces fired towards the positions with light weapons but did not fire a tank shell the military sources said\"\n        ],\n        \"semantic_type\": \"\",\n        \"description\": \"\"\n      }\n    },\n    {\n      \"column\": \"Email Type\",\n      \"properties\": {\n        \"dtype\": \"category\",\n        \"num_unique_values\": 2,\n        \"samples\": [\n          \"Phishing Email\",\n          \"Safe Email\"\n        ],\n        \"semantic_type\": \"\",\n        \"description\": \"\"\n      }\n    }\n  ]\n}",
       "type": "dataframe",
       "variable_name": "df"
      },
      "text/html": [
       "\n",
       "  <div id=\"df-18366743-dfc4-47ec-9920-08fc5306991d\" class=\"colab-df-container\">\n",
       "    <div>\n",
       "<style scoped>\n",
       "    .dataframe tbody tr th:only-of-type {\n",
       "        vertical-align: middle;\n",
       "    }\n",
       "\n",
       "    .dataframe tbody tr th {\n",
       "        vertical-align: top;\n",
       "    }\n",
       "\n",
       "    .dataframe thead th {\n",
       "        text-align: right;\n",
       "    }\n",
       "</style>\n",
       "<table border=\"1\" class=\"dataframe\">\n",
       "  <thead>\n",
       "    <tr style=\"text-align: right;\">\n",
       "      <th></th>\n",
       "      <th>Email Text</th>\n",
       "      <th>Email Type</th>\n",
       "    </tr>\n",
       "  </thead>\n",
       "  <tbody>\n",
       "    <tr>\n",
       "      <th>0</th>\n",
       "      <td>re # # disc uniformitarianism re # sex lang di...</td>\n",
       "      <td>Safe Email</td>\n",
       "    </tr>\n",
       "    <tr>\n",
       "      <th>1</th>\n",
       "      <td>the other side of galicismos galicismo is a sp...</td>\n",
       "      <td>Safe Email</td>\n",
       "    </tr>\n",
       "    <tr>\n",
       "      <th>2</th>\n",
       "      <td>re equistar deal tickets are you still availab...</td>\n",
       "      <td>Safe Email</td>\n",
       "    </tr>\n",
       "    <tr>\n",
       "      <th>3</th>\n",
       "      <td>hello i am your hot lil horny toy i am the one...</td>\n",
       "      <td>Phishing Email</td>\n",
       "    </tr>\n",
       "    <tr>\n",
       "      <th>4</th>\n",
       "      <td>software at incredibly low prices # lower drap...</td>\n",
       "      <td>Phishing Email</td>\n",
       "    </tr>\n",
       "  </tbody>\n",
       "</table>\n",
       "</div>\n",
       "    <div class=\"colab-df-buttons\">\n",
       "\n",
       "  <div class=\"colab-df-container\">\n",
       "    <button class=\"colab-df-convert\" onclick=\"convertToInteractive('df-18366743-dfc4-47ec-9920-08fc5306991d')\"\n",
       "            title=\"Convert this dataframe to an interactive table.\"\n",
       "            style=\"display:none;\">\n",
       "\n",
       "  <svg xmlns=\"http://www.w3.org/2000/svg\" height=\"24px\" viewBox=\"0 -960 960 960\">\n",
       "    <path d=\"M120-120v-720h720v720H120Zm60-500h600v-160H180v160Zm220 220h160v-160H400v160Zm0 220h160v-160H400v160ZM180-400h160v-160H180v160Zm440 0h160v-160H620v160ZM180-180h160v-160H180v160Zm440 0h160v-160H620v160Z\"/>\n",
       "  </svg>\n",
       "    </button>\n",
       "\n",
       "  <style>\n",
       "    .colab-df-container {\n",
       "      display:flex;\n",
       "      gap: 12px;\n",
       "    }\n",
       "\n",
       "    .colab-df-convert {\n",
       "      background-color: #E8F0FE;\n",
       "      border: none;\n",
       "      border-radius: 50%;\n",
       "      cursor: pointer;\n",
       "      display: none;\n",
       "      fill: #1967D2;\n",
       "      height: 32px;\n",
       "      padding: 0 0 0 0;\n",
       "      width: 32px;\n",
       "    }\n",
       "\n",
       "    .colab-df-convert:hover {\n",
       "      background-color: #E2EBFA;\n",
       "      box-shadow: 0px 1px 2px rgba(60, 64, 67, 0.3), 0px 1px 3px 1px rgba(60, 64, 67, 0.15);\n",
       "      fill: #174EA6;\n",
       "    }\n",
       "\n",
       "    .colab-df-buttons div {\n",
       "      margin-bottom: 4px;\n",
       "    }\n",
       "\n",
       "    [theme=dark] .colab-df-convert {\n",
       "      background-color: #3B4455;\n",
       "      fill: #D2E3FC;\n",
       "    }\n",
       "\n",
       "    [theme=dark] .colab-df-convert:hover {\n",
       "      background-color: #434B5C;\n",
       "      box-shadow: 0px 1px 3px 1px rgba(0, 0, 0, 0.15);\n",
       "      filter: drop-shadow(0px 1px 2px rgba(0, 0, 0, 0.3));\n",
       "      fill: #FFFFFF;\n",
       "    }\n",
       "  </style>\n",
       "\n",
       "    <script>\n",
       "      const buttonEl =\n",
       "        document.querySelector('#df-18366743-dfc4-47ec-9920-08fc5306991d button.colab-df-convert');\n",
       "      buttonEl.style.display =\n",
       "        google.colab.kernel.accessAllowed ? 'block' : 'none';\n",
       "\n",
       "      async function convertToInteractive(key) {\n",
       "        const element = document.querySelector('#df-18366743-dfc4-47ec-9920-08fc5306991d');\n",
       "        const dataTable =\n",
       "          await google.colab.kernel.invokeFunction('convertToInteractive',\n",
       "                                                    [key], {});\n",
       "        if (!dataTable) return;\n",
       "\n",
       "        const docLinkHtml = 'Like what you see? Visit the ' +\n",
       "          '<a target=\"_blank\" href=https://colab.research.google.com/notebooks/data_table.ipynb>data table notebook</a>'\n",
       "          + ' to learn more about interactive tables.';\n",
       "        element.innerHTML = '';\n",
       "        dataTable['output_type'] = 'display_data';\n",
       "        await google.colab.output.renderOutput(dataTable, element);\n",
       "        const docLink = document.createElement('div');\n",
       "        docLink.innerHTML = docLinkHtml;\n",
       "        element.appendChild(docLink);\n",
       "      }\n",
       "    </script>\n",
       "  </div>\n",
       "\n",
       "\n",
       "<div id=\"df-cf5720f1-d283-4592-a046-ab50a876c26f\">\n",
       "  <button class=\"colab-df-quickchart\" onclick=\"quickchart('df-cf5720f1-d283-4592-a046-ab50a876c26f')\"\n",
       "            title=\"Suggest charts\"\n",
       "            style=\"display:none;\">\n",
       "\n",
       "<svg xmlns=\"http://www.w3.org/2000/svg\" height=\"24px\"viewBox=\"0 0 24 24\"\n",
       "     width=\"24px\">\n",
       "    <g>\n",
       "        <path d=\"M19 3H5c-1.1 0-2 .9-2 2v14c0 1.1.9 2 2 2h14c1.1 0 2-.9 2-2V5c0-1.1-.9-2-2-2zM9 17H7v-7h2v7zm4 0h-2V7h2v10zm4 0h-2v-4h2v4z\"/>\n",
       "    </g>\n",
       "</svg>\n",
       "  </button>\n",
       "\n",
       "<style>\n",
       "  .colab-df-quickchart {\n",
       "      --bg-color: #E8F0FE;\n",
       "      --fill-color: #1967D2;\n",
       "      --hover-bg-color: #E2EBFA;\n",
       "      --hover-fill-color: #174EA6;\n",
       "      --disabled-fill-color: #AAA;\n",
       "      --disabled-bg-color: #DDD;\n",
       "  }\n",
       "\n",
       "  [theme=dark] .colab-df-quickchart {\n",
       "      --bg-color: #3B4455;\n",
       "      --fill-color: #D2E3FC;\n",
       "      --hover-bg-color: #434B5C;\n",
       "      --hover-fill-color: #FFFFFF;\n",
       "      --disabled-bg-color: #3B4455;\n",
       "      --disabled-fill-color: #666;\n",
       "  }\n",
       "\n",
       "  .colab-df-quickchart {\n",
       "    background-color: var(--bg-color);\n",
       "    border: none;\n",
       "    border-radius: 50%;\n",
       "    cursor: pointer;\n",
       "    display: none;\n",
       "    fill: var(--fill-color);\n",
       "    height: 32px;\n",
       "    padding: 0;\n",
       "    width: 32px;\n",
       "  }\n",
       "\n",
       "  .colab-df-quickchart:hover {\n",
       "    background-color: var(--hover-bg-color);\n",
       "    box-shadow: 0 1px 2px rgba(60, 64, 67, 0.3), 0 1px 3px 1px rgba(60, 64, 67, 0.15);\n",
       "    fill: var(--button-hover-fill-color);\n",
       "  }\n",
       "\n",
       "  .colab-df-quickchart-complete:disabled,\n",
       "  .colab-df-quickchart-complete:disabled:hover {\n",
       "    background-color: var(--disabled-bg-color);\n",
       "    fill: var(--disabled-fill-color);\n",
       "    box-shadow: none;\n",
       "  }\n",
       "\n",
       "  .colab-df-spinner {\n",
       "    border: 2px solid var(--fill-color);\n",
       "    border-color: transparent;\n",
       "    border-bottom-color: var(--fill-color);\n",
       "    animation:\n",
       "      spin 1s steps(1) infinite;\n",
       "  }\n",
       "\n",
       "  @keyframes spin {\n",
       "    0% {\n",
       "      border-color: transparent;\n",
       "      border-bottom-color: var(--fill-color);\n",
       "      border-left-color: var(--fill-color);\n",
       "    }\n",
       "    20% {\n",
       "      border-color: transparent;\n",
       "      border-left-color: var(--fill-color);\n",
       "      border-top-color: var(--fill-color);\n",
       "    }\n",
       "    30% {\n",
       "      border-color: transparent;\n",
       "      border-left-color: var(--fill-color);\n",
       "      border-top-color: var(--fill-color);\n",
       "      border-right-color: var(--fill-color);\n",
       "    }\n",
       "    40% {\n",
       "      border-color: transparent;\n",
       "      border-right-color: var(--fill-color);\n",
       "      border-top-color: var(--fill-color);\n",
       "    }\n",
       "    60% {\n",
       "      border-color: transparent;\n",
       "      border-right-color: var(--fill-color);\n",
       "    }\n",
       "    80% {\n",
       "      border-color: transparent;\n",
       "      border-right-color: var(--fill-color);\n",
       "      border-bottom-color: var(--fill-color);\n",
       "    }\n",
       "    90% {\n",
       "      border-color: transparent;\n",
       "      border-bottom-color: var(--fill-color);\n",
       "    }\n",
       "  }\n",
       "</style>\n",
       "\n",
       "  <script>\n",
       "    async function quickchart(key) {\n",
       "      const quickchartButtonEl =\n",
       "        document.querySelector('#' + key + ' button');\n",
       "      quickchartButtonEl.disabled = true;  // To prevent multiple clicks.\n",
       "      quickchartButtonEl.classList.add('colab-df-spinner');\n",
       "      try {\n",
       "        const charts = await google.colab.kernel.invokeFunction(\n",
       "            'suggestCharts', [key], {});\n",
       "      } catch (error) {\n",
       "        console.error('Error during call to suggestCharts:', error);\n",
       "      }\n",
       "      quickchartButtonEl.classList.remove('colab-df-spinner');\n",
       "      quickchartButtonEl.classList.add('colab-df-quickchart-complete');\n",
       "    }\n",
       "    (() => {\n",
       "      let quickchartButtonEl =\n",
       "        document.querySelector('#df-cf5720f1-d283-4592-a046-ab50a876c26f button');\n",
       "      quickchartButtonEl.style.display =\n",
       "        google.colab.kernel.accessAllowed ? 'block' : 'none';\n",
       "    })();\n",
       "  </script>\n",
       "</div>\n",
       "\n",
       "    </div>\n",
       "  </div>\n"
      ],
      "text/plain": [
       "                                          Email Text      Email Type\n",
       "0  re # # disc uniformitarianism re # sex lang di...      Safe Email\n",
       "1  the other side of galicismos galicismo is a sp...      Safe Email\n",
       "2  re equistar deal tickets are you still availab...      Safe Email\n",
       "3  hello i am your hot lil horny toy i am the one...  Phishing Email\n",
       "4  software at incredibly low prices # lower drap...  Phishing Email"
      ]
     },
     "execution_count": 5,
     "metadata": {},
     "output_type": "execute_result"
    }
   ],
   "source": [
    "# Track data changes through cleaning steps\n",
    "data_changes = {}\n",
    "data_changes[\"Original\"] = len(df)\n",
    "df.drop(columns=[\"Unnamed: 0\"], inplace=True)\n",
    "df.drop_duplicates(inplace=True)\n",
    "df.dropna(inplace=True)\n",
    "data_changes[\"After Removing Duplicates & Null\"] = len(df)\n",
    "\n",
    "# Remove noise by filtering out outlier email lengths for each Email Type\n",
    "df['length'] = df['Email Text'].str.len()\n",
    "for email_type in df[\"Email Type\"].unique():\n",
    "    lengths = df.loc[df[\"Email Type\"] == email_type, \"length\"]\n",
    "    q1 = lengths.quantile(0.25)\n",
    "    q3 = lengths.quantile(0.75)\n",
    "    iqr = q3 - q1\n",
    "    lower = q1 - 1.5 * iqr\n",
    "    upper = q3 + 1.5 * iqr\n",
    "    outliers = lengths[(lengths < lower) | (lengths > upper)].index\n",
    "    df.drop(index=outliers, inplace=True)\n",
    "data_changes[\"After Noise Removal\"] = len(df)\n",
    "df.drop(columns=[\"length\"], inplace=True)\n",
    "df.reset_index(drop=True, inplace=True)\n",
    "data_changes[\"Final\"] = len(df)\n",
    "\n",
    "print(\"Data Changes Tracking:\")\n",
    "for stage, size in data_changes.items():\n",
    "    print(f\"{stage}: {size} rows\")\n",
    "print(pd.DataFrame(list(data_changes.items()), columns=[\"Stage\", \"Row Count\"]))\n",
    "\n",
    "def preprocess_text(text: str) -> str:\n",
    "    # Lowercase the text\n",
    "    text = text.lower()\n",
    "    # Remove special characters and punctuation (retain numbers)\n",
    "    text = re.sub(r'[^a-z0-9\\s]', '', text)\n",
    "    # Replace numbers with a hashtag\n",
    "    text = re.sub(r'\\d+', '#', text)\n",
    "    # Remove extra spaces/newlines\n",
    "    return re.sub(r'\\s+', ' ', text).strip()\n",
    "\n",
    "df['Email Text'] = df['Email Text'].apply(preprocess_text)\n",
    "df.head()"
   ]
  },
  {
   "cell_type": "code",
   "execution_count": null,
   "metadata": {
    "colab": {
     "base_uri": "https://localhost:8080/",
     "height": 732,
     "referenced_widgets": [
      "bef9deaff4f74bb8b42bff75a0876c2f",
      "5b1691a2e51c442eb1c85e6da927a3b1",
      "30d50139dc144539acd58057713a9dd6",
      "87ede06496144ff6a4dbad2257f418f6",
      "9c7e7fa1d7214228b06cf79fb4acd729",
      "53d3884840e24bb9997ec1482dae6b5b",
      "9a7c79ed540e4d5ab2c7841e8a296a5f",
      "e49f2ed7190346b886e7414973c1ef23",
      "6bc29067c2f44e318467042c5c0b6ffc",
      "7bc90d024f7a425184936376024f4bd8",
      "60788ffdeab64cc2b9afcf5f689655ab",
      "d912354ffbae47dfb94c16a84e64b3d5",
      "b71aeef25dce4255ab434f03170f9ba2",
      "b1ac3beb456d4aad91ed9429574dec66",
      "267314a30ca84391bb18a89a536bacb5",
      "9476f0dd0158437fa34240de4ea84227",
      "92b52e341e0341c28701a538f38d36bd",
      "4a0c8fedc39e48a9b0130a7acc2cc269",
      "a935aa57422d494dab0327da4f1ad166",
      "9879a921a509451a9265e87e17df9032",
      "d54b937d135740788fba12a9c22b6eb4",
      "9161c7b7cd0847349299af01b61d9037",
      "faafa969e09143eb8b32afda5898e018",
      "3fe09e239bf54a9cbd3ead325931221b",
      "f68c476c470f41079e4b3236ba271ba2",
      "4801cff3db8d4761b44ee5d5a929cde0",
      "63c6cc883dd541e1abd8153236ea6359",
      "515c2db2241448c68d0069a868326fbd",
      "96bc8fddaef848bd97439009f4984d78",
      "97dbc1357bb6407886a203b55a86953c",
      "87da3a1577f544d08b8bf5f204cb17a8",
      "2a44d027a72c43b1be47ed9f571182e3",
      "add6618eba3a46f699411573dbd93aae",
      "ae24408da6e14a489084d7fcd33e3610",
      "bd402073ce924fc6b5519d2f16be56f3",
      "c6e9a6a0f8c04902a69d95ecb86c94ba",
      "ec5fc8a10b1040c2afb16d80235ef944",
      "c8498a94f1b7496f9707c2ea1f96156a",
      "a0a6901e27ea493b9c62ecd50d9b9958",
      "fa1168d1beec47f0890d9a74ce75c146",
      "67aa39c005ee44afb3bb5cc6b17012ef",
      "e52033e4ad6444c8bff2a4adea9667e0",
      "fc11fc9454f54bf8bd3fa6ea3948b72c",
      "9b32c55108a343c2a44ac3ffb889ae14",
      "3b36400c5442419f87e4a8207d2a5544",
      "cc79974781c24447a20c31de350bd51e",
      "ec3ac180e3e7489ab758dc2cc50d1f59",
      "5639f389b34f4fbbacbe9e0caa91eefa",
      "030398d9a3db4d23b09ec09c85b0de70",
      "79991fc58fcd462bbd4dfc576ea33542",
      "286c3f493dd940288e23234571e92116",
      "d7e232fc2eb34561a961092eb169b85e",
      "aa2f83fb68854212b75255961ec0d1de",
      "a943337eaedc4bf8a125c28464a06f6f",
      "6e0ff41186d5475382b66d07fcd9cfe8",
      "3051ad908c8247019d825a6801128c29",
      "4ba4e4548e794cb4b7596480f5f65e3c",
      "54e502e4376b4d2b918784c8a67c377c",
      "752055d7ff114274ad978bb076ede7e0",
      "d21901ac0fc54ab0b3c306e39c8133e5",
      "f6b002f8bfee4739ae2d9c270b84f7af",
      "a2718e611f3841a4966670aea5cd151b",
      "2e8c58d6717f419191c16f2fa7f55df0",
      "f5a76610a5d246cbb180afa5095eeed3",
      "b6136e5f6c3744adb278c16961d151ce",
      "097f9c95a7a14936923da22d3c833403",
      "48ebbb774e3d4f5580a6a57556701267",
      "b8be75f7f52b4cc4859b967aba62bae8",
      "9e448c2c98c4465e890a1acfff3ab9b1",
      "657d2a2c93a24617b7fdef7839199e42",
      "b900f8b42e154e289efdc504d118882e",
      "d37440eda8bd43c88e0a2fc128e9cea6",
      "caacb54a7b8b4ba1960a5495c8a5b4bf",
      "4713d0c262e84459895051bd73d78b67",
      "cef087694e4e41109803716509944b8a",
      "360abe89c00f43228474b2ccd3133c5a",
      "0e16850d6e464317b6a00879f770b7dc",
      "f5e09621a4034620b6d8053255add059",
      "3ad3736d17124d0889b3fe49e558b8c1",
      "dae2c815cfeb432b9f9a5c1f78dd2ab4",
      "39842584b3cc4cfea2afb1dbe9815545",
      "b5ca8a3ad2a3421cb9835244dbf35e09",
      "138ac46233324f879dd031d5b65656bd",
      "48c786611912406d8e41f3779a0572eb",
      "ab26193e32e7458bb442420050278d81",
      "6f95f79dad224ae9b0ad58f73fbd365a",
      "319843b8ff464bb2aa512337c7ce080b",
      "97d794f6a6b14660bf9e0ae4c0ac29af",
      "e8232c9536ea45e99ed70770cda1bd7f",
      "4b8063474bfb4b4ebaa48c6559eb6687",
      "4bbeeb100f534b4aacdfde6c68f106ca",
      "8d7627ed609a4f48a01786062ad70bde",
      "0df189b3b9c8401ebc57025dea80516f",
      "13c4c062113a422ab23f8f5d9c6bdbce",
      "d8d957f34f7e436580722df5ccff18dd",
      "acc50af888df45c0bfa6446b534682f0",
      "b6193873314e416d8c1fb65479f94993",
      "f8c07d39696a41a1bc9ae4d932ab2c80",
      "c0cbca921a114efb96ca664a04416c79",
      "585afb38b6224cc086383c32ff9eddab",
      "250ce776fdc54aafaa97486ee738e88f",
      "aab66b67aab74c0cb7a0278b2bea88d0",
      "15d7263c2ab5477caa52608491873b18",
      "57ebef1776be4d0c81c57e9ac4ec7e6a",
      "aedfbe0f265a45b8b88fd7b3076ef505",
      "4d04b0714d88466eb23b8e4fa18ee40b",
      "cda9b1c4cc5c4d2cbaee11c95736cf60",
      "f465190565a742969cf14d7b57e4af83",
      "814ebf1a67884f03ad8841691b1b9a19",
      "c07b6c5b443f46e29b67ab1339652326"
     ]
    },
    "id": "A7OARQq8DsCn",
    "outputId": "e726df89-4f85-47a9-891a-0ecd42b864cb"
   },
   "outputs": [
    {
     "name": "stdout",
     "output_type": "stream",
     "text": [
      "Train, Valid, Test shapes: (12716, 2) (1589, 2) (1590, 2)\n"
     ]
    },
    {
     "data": {
      "application/vnd.jupyter.widget-view+json": {
       "model_id": "bef9deaff4f74bb8b42bff75a0876c2f",
       "version_major": 2,
       "version_minor": 0
      },
      "text/plain": [
       "Map:   0%|          | 0/12716 [00:00<?, ? examples/s]"
      ]
     },
     "metadata": {},
     "output_type": "display_data"
    },
    {
     "data": {
      "application/vnd.jupyter.widget-view+json": {
       "model_id": "d912354ffbae47dfb94c16a84e64b3d5",
       "version_major": 2,
       "version_minor": 0
      },
      "text/plain": [
       "Map:   0%|          | 0/1589 [00:00<?, ? examples/s]"
      ]
     },
     "metadata": {},
     "output_type": "display_data"
    },
    {
     "data": {
      "application/vnd.jupyter.widget-view+json": {
       "model_id": "faafa969e09143eb8b32afda5898e018",
       "version_major": 2,
       "version_minor": 0
      },
      "text/plain": [
       "Map:   0%|          | 0/1590 [00:00<?, ? examples/s]"
      ]
     },
     "metadata": {},
     "output_type": "display_data"
    },
    {
     "name": "stderr",
     "output_type": "stream",
     "text": [
      "/usr/local/lib/python3.11/dist-packages/huggingface_hub/utils/_auth.py:94: UserWarning: \n",
      "The secret `HF_TOKEN` does not exist in your Colab secrets.\n",
      "To authenticate with the Hugging Face Hub, create a token in your settings tab (https://huggingface.co/settings/tokens), set it as secret in your Google Colab and restart your session.\n",
      "You will be able to reuse this secret in all of your notebooks.\n",
      "Please note that authentication is recommended but still optional to access public models or datasets.\n",
      "  warnings.warn(\n"
     ]
    },
    {
     "data": {
      "application/vnd.jupyter.widget-view+json": {
       "model_id": "ae24408da6e14a489084d7fcd33e3610",
       "version_major": 2,
       "version_minor": 0
      },
      "text/plain": [
       "tokenizer_config.json:   0%|          | 0.00/48.0 [00:00<?, ?B/s]"
      ]
     },
     "metadata": {},
     "output_type": "display_data"
    },
    {
     "data": {
      "application/vnd.jupyter.widget-view+json": {
       "model_id": "3b36400c5442419f87e4a8207d2a5544",
       "version_major": 2,
       "version_minor": 0
      },
      "text/plain": [
       "config.json:   0%|          | 0.00/483 [00:00<?, ?B/s]"
      ]
     },
     "metadata": {},
     "output_type": "display_data"
    },
    {
     "data": {
      "application/vnd.jupyter.widget-view+json": {
       "model_id": "3051ad908c8247019d825a6801128c29",
       "version_major": 2,
       "version_minor": 0
      },
      "text/plain": [
       "vocab.txt:   0%|          | 0.00/232k [00:00<?, ?B/s]"
      ]
     },
     "metadata": {},
     "output_type": "display_data"
    },
    {
     "data": {
      "application/vnd.jupyter.widget-view+json": {
       "model_id": "48ebbb774e3d4f5580a6a57556701267",
       "version_major": 2,
       "version_minor": 0
      },
      "text/plain": [
       "tokenizer.json:   0%|          | 0.00/466k [00:00<?, ?B/s]"
      ]
     },
     "metadata": {},
     "output_type": "display_data"
    },
    {
     "data": {
      "application/vnd.jupyter.widget-view+json": {
       "model_id": "f5e09621a4034620b6d8053255add059",
       "version_major": 2,
       "version_minor": 0
      },
      "text/plain": [
       "Map:   0%|          | 0/12716 [00:00<?, ? examples/s]"
      ]
     },
     "metadata": {},
     "output_type": "display_data"
    },
    {
     "data": {
      "application/vnd.jupyter.widget-view+json": {
       "model_id": "e8232c9536ea45e99ed70770cda1bd7f",
       "version_major": 2,
       "version_minor": 0
      },
      "text/plain": [
       "Map:   0%|          | 0/1589 [00:00<?, ? examples/s]"
      ]
     },
     "metadata": {},
     "output_type": "display_data"
    },
    {
     "data": {
      "application/vnd.jupyter.widget-view+json": {
       "model_id": "585afb38b6224cc086383c32ff9eddab",
       "version_major": 2,
       "version_minor": 0
      },
      "text/plain": [
       "Map:   0%|          | 0/1590 [00:00<?, ? examples/s]"
      ]
     },
     "metadata": {},
     "output_type": "display_data"
    },
    {
     "data": {
      "text/plain": [
       "DatasetDict({\n",
       "    train: Dataset({\n",
       "        features: ['Email Text', 'labels', 'input_ids', 'attention_mask'],\n",
       "        num_rows: 12716\n",
       "    })\n",
       "    valid: Dataset({\n",
       "        features: ['Email Text', 'labels', 'input_ids', 'attention_mask'],\n",
       "        num_rows: 1589\n",
       "    })\n",
       "    test: Dataset({\n",
       "        features: ['Email Text', 'labels', 'input_ids', 'attention_mask'],\n",
       "        num_rows: 1590\n",
       "    })\n",
       "})"
      ]
     },
     "execution_count": 6,
     "metadata": {},
     "output_type": "execute_result"
    }
   ],
   "source": [
    "# Split the data into training, validation, and test sets\n",
    "train_df, temp_df = train_test_split(df, stratify=df[\"Email Type\"], test_size=0.2, random_state=123)\n",
    "valid_df, test_df = train_test_split(temp_df, stratify=temp_df[\"Email Type\"], test_size=0.5, random_state=123)\n",
    "print(\"Train, Valid, Test shapes:\", train_df.shape, valid_df.shape, test_df.shape)\n",
    "\n",
    "# Convert to Hugging Face datasets\n",
    "dataset = datasets.DatasetDict({\n",
    "    \"train\": datasets.Dataset.from_pandas(train_df),\n",
    "    \"valid\": datasets.Dataset.from_pandas(valid_df),\n",
    "    \"test\": datasets.Dataset.from_pandas(test_df)\n",
    "})\n",
    "if \"__index_level_0__\" in dataset[\"train\"].column_names:\n",
    "    dataset = dataset.remove_columns([\"__index_level_0__\"])\n",
    "\n",
    "# Define label mappings and add numeric labels to the dataset\n",
    "id2label = {0: \"Safe Email\", 1: \"Phishing Email\"}\n",
    "label2id = {\"Safe Email\": 0, \"Phishing Email\": 1}\n",
    "\n",
    "def add_labels(example):\n",
    "    example['labels'] = label2id[example['Email Type']]\n",
    "    return example\n",
    "\n",
    "dataset = dataset.map(add_labels)\n",
    "\n",
    "# Tokenization using a model\n",
    "model_name = \"distilbert-base-uncased\"\n",
    "tokenizer = AutoTokenizer.from_pretrained(model_name)\n",
    "\n",
    "def tokenize_function(example):\n",
    "    return tokenizer(example[\"Email Text\"], padding=\"max_length\", truncation=True)\n",
    "\n",
    "dataset_tokenized = dataset.map(tokenize_function, batched=True)\n",
    "dataset_tokenized = dataset_tokenized.remove_columns([\"Email Type\"])\n",
    "\n",
    "dataset_tokenized"
   ]
  },
  {
   "cell_type": "code",
   "execution_count": null,
   "metadata": {
    "colab": {
     "base_uri": "https://localhost:8080/",
     "height": 486,
     "referenced_widgets": [
      "10af5c08d5784242bdfeb790571ef469",
      "1b8b7b2760b947ea8202030223c8ba2f",
      "b3f5460518e9412d8d092cd04a41cc13",
      "34e388a7a273432d8a1d9c1445ad9de9",
      "c315d90aa632455f87d6171e229be573",
      "9ee2a98c85ee46a898e175fcfa0f9d46",
      "96e6e0539a55469291fdea8e14cc8e78",
      "8ed5fb04879e40e4b4751a64797cc050",
      "61a56b9a292243c0b14a01d9062d4048",
      "1e824bbf8bed47aabb95ce8fa86f0419",
      "030a5d08ffb44414b580a121c9ca32bb",
      "cab977e10c654ed6b3a010d6bf496fb0",
      "67593186118d479e924c8e50f37664c9",
      "e76b38a77eba4bee957ec4f13106acf3",
      "e17f33e79f244401ad4552014cb778bc",
      "81b3cef37b6d49288f03079b0624fb76",
      "685c576cdf534384b8ee1799e0e93e4f",
      "89699145729f49efbbddaa0dfdb27f87",
      "ed0e4927607347df868bb2b1302bc1dd",
      "d1068f46d7ca415b9bf0d3a0f3fbef9e",
      "7db78f0c17bf4d13b64c390bc384ed56",
      "b6bd03a696a046eeaa85906d5e185e8a"
     ]
    },
    "id": "HSZLv8bhEMdi",
    "outputId": "bea89dff-0073-460a-8ea1-342dd418ffba"
   },
   "outputs": [
    {
     "name": "stdout",
     "output_type": "stream",
     "text": [
      "GPU available: True\n"
     ]
    },
    {
     "data": {
      "application/vnd.jupyter.widget-view+json": {
       "model_id": "10af5c08d5784242bdfeb790571ef469",
       "version_major": 2,
       "version_minor": 0
      },
      "text/plain": [
       "model.safetensors:   0%|          | 0.00/268M [00:00<?, ?B/s]"
      ]
     },
     "metadata": {},
     "output_type": "display_data"
    },
    {
     "name": "stderr",
     "output_type": "stream",
     "text": [
      "Some weights of DistilBertForSequenceClassification were not initialized from the model checkpoint at distilbert-base-uncased and are newly initialized: ['classifier.bias', 'classifier.weight', 'pre_classifier.bias', 'pre_classifier.weight']\n",
      "You should probably TRAIN this model on a down-stream task to be able to use it for predictions and inference.\n"
     ]
    },
    {
     "data": {
      "application/vnd.jupyter.widget-view+json": {
       "model_id": "cab977e10c654ed6b3a010d6bf496fb0",
       "version_major": 2,
       "version_minor": 0
      },
      "text/plain": [
       "Downloading builder script:   0%|          | 0.00/6.79k [00:00<?, ?B/s]"
      ]
     },
     "metadata": {},
     "output_type": "display_data"
    },
    {
     "data": {
      "text/html": [
       "\n",
       "    <div>\n",
       "      \n",
       "      <progress value='2786' max='3980' style='width:300px; height:20px; vertical-align: middle;'></progress>\n",
       "      [2786/3980 18:47 < 08:03, 2.47 it/s, Epoch 7/10]\n",
       "    </div>\n",
       "    <table border=\"1\" class=\"dataframe\">\n",
       "  <thead>\n",
       " <tr style=\"text-align: left;\">\n",
       "      <th>Epoch</th>\n",
       "      <th>Training Loss</th>\n",
       "      <th>Validation Loss</th>\n",
       "      <th>Accuracy</th>\n",
       "      <th>Precision</th>\n",
       "      <th>Recall</th>\n",
       "      <th>F1</th>\n",
       "      <th>Roc Auc</th>\n",
       "      <th>Log Loss</th>\n",
       "      <th>Confusion Matrix</th>\n",
       "      <th>Runtime</th>\n",
       "      <th>Samples Per Second</th>\n",
       "      <th>Steps Per Second</th>\n",
       "    </tr>\n",
       "  </thead>\n",
       "  <tbody>\n",
       "    <tr>\n",
       "      <td>1</td>\n",
       "      <td>No log</td>\n",
       "      <td>0.074719</td>\n",
       "      <td>0.976086</td>\n",
       "      <td>0.980836</td>\n",
       "      <td>0.954237</td>\n",
       "      <td>0.967354</td>\n",
       "      <td>0.997939</td>\n",
       "      <td>0.322570</td>\n",
       "      <td>[[988, 11], [27, 563]]</td>\n",
       "      <td>6.089300</td>\n",
       "      <td>260.949000</td>\n",
       "      <td>4.106000</td>\n",
       "    </tr>\n",
       "    <tr>\n",
       "      <td>2</td>\n",
       "      <td>0.197400</td>\n",
       "      <td>0.070547</td>\n",
       "      <td>0.979862</td>\n",
       "      <td>0.992933</td>\n",
       "      <td>0.952542</td>\n",
       "      <td>0.972318</td>\n",
       "      <td>0.999294</td>\n",
       "      <td>0.335718</td>\n",
       "      <td>[[995, 4], [28, 562]]</td>\n",
       "      <td>6.421900</td>\n",
       "      <td>247.433000</td>\n",
       "      <td>3.893000</td>\n",
       "    </tr>\n",
       "    <tr>\n",
       "      <td>3</td>\n",
       "      <td>0.038500</td>\n",
       "      <td>0.120684</td>\n",
       "      <td>0.976086</td>\n",
       "      <td>0.943730</td>\n",
       "      <td>0.994915</td>\n",
       "      <td>0.968647</td>\n",
       "      <td>0.998731</td>\n",
       "      <td>0.342629</td>\n",
       "      <td>[[964, 35], [3, 587]]</td>\n",
       "      <td>6.240700</td>\n",
       "      <td>254.618000</td>\n",
       "      <td>4.006000</td>\n",
       "    </tr>\n",
       "    <tr>\n",
       "      <td>4</td>\n",
       "      <td>0.011600</td>\n",
       "      <td>0.039577</td>\n",
       "      <td>0.988043</td>\n",
       "      <td>0.986371</td>\n",
       "      <td>0.981356</td>\n",
       "      <td>0.983857</td>\n",
       "      <td>0.999600</td>\n",
       "      <td>0.176814</td>\n",
       "      <td>[[991, 8], [11, 579]]</td>\n",
       "      <td>6.352500</td>\n",
       "      <td>250.138000</td>\n",
       "      <td>3.935000</td>\n",
       "    </tr>\n",
       "    <tr>\n",
       "      <td>5</td>\n",
       "      <td>0.011600</td>\n",
       "      <td>0.064975</td>\n",
       "      <td>0.986784</td>\n",
       "      <td>0.993068</td>\n",
       "      <td>0.971186</td>\n",
       "      <td>0.982005</td>\n",
       "      <td>0.999503</td>\n",
       "      <td>0.206162</td>\n",
       "      <td>[[995, 4], [17, 573]]</td>\n",
       "      <td>6.467000</td>\n",
       "      <td>245.708000</td>\n",
       "      <td>3.866000</td>\n",
       "    </tr>\n",
       "    <tr>\n",
       "      <td>6</td>\n",
       "      <td>0.004200</td>\n",
       "      <td>0.068256</td>\n",
       "      <td>0.988043</td>\n",
       "      <td>0.984720</td>\n",
       "      <td>0.983051</td>\n",
       "      <td>0.983885</td>\n",
       "      <td>0.999369</td>\n",
       "      <td>0.184765</td>\n",
       "      <td>[[990, 9], [10, 580]]</td>\n",
       "      <td>6.075200</td>\n",
       "      <td>261.557000</td>\n",
       "      <td>4.115000</td>\n",
       "    </tr>\n",
       "    <tr>\n",
       "      <td>7</td>\n",
       "      <td>0.001300</td>\n",
       "      <td>0.067515</td>\n",
       "      <td>0.988043</td>\n",
       "      <td>0.983080</td>\n",
       "      <td>0.984746</td>\n",
       "      <td>0.983912</td>\n",
       "      <td>0.999495</td>\n",
       "      <td>0.173356</td>\n",
       "      <td>[[989, 10], [9, 581]]</td>\n",
       "      <td>6.428200</td>\n",
       "      <td>247.193000</td>\n",
       "      <td>3.889000</td>\n",
       "    </tr>\n",
       "  </tbody>\n",
       "</table><p>"
      ],
      "text/plain": [
       "<IPython.core.display.HTML object>"
      ]
     },
     "metadata": {},
     "output_type": "display_data"
    },
    {
     "name": "stdout",
     "output_type": "stream",
     "text": [
      "Total training time: 1131.73 seconds\n"
     ]
    },
    {
     "data": {
      "text/html": [],
      "text/plain": [
       "<IPython.core.display.HTML object>"
      ]
     },
     "metadata": {},
     "output_type": "display_data"
    },
    {
     "name": "stdout",
     "output_type": "stream",
     "text": [
      "F1 Score: 0.9806\n"
     ]
    }
   ],
   "source": [
    "print(\"GPU available:\", torch.cuda.is_available())\n",
    "\n",
    "# Load transformer model for sequence classification\n",
    "model = AutoModelForSequenceClassification.from_pretrained(\n",
    "    model_name,\n",
    "    num_labels=2,\n",
    "    id2label=id2label,\n",
    "    label2id=label2id\n",
    ")\n",
    "model.to(device)\n",
    "\n",
    "# Load evaluation metric and define compute_metrics\n",
    "metric = evaluate.load('f1')\n",
    "def compute_metrics(eval_pred):\n",
    "    logits, labels = eval_pred\n",
    "    predictions = np.argmax(logits, axis=1)\n",
    "\n",
    "    accuracy = accuracy_score(labels, predictions)\n",
    "    precision = precision_score(labels, predictions, average='binary')\n",
    "    recall = recall_score(labels, predictions, average='binary')\n",
    "    f1 = f1_score(labels, predictions, average='binary')\n",
    "    auc = roc_auc_score(labels, logits[:, 1])  # Use probabilities for AUC\n",
    "    logloss = log_loss(labels, logits[:, 1])   # Use probabilities for log loss\n",
    "    conf_matrix = confusion_matrix(labels, predictions)\n",
    "\n",
    "    return {\n",
    "        \"accuracy\": accuracy,\n",
    "        \"precision\": precision,\n",
    "        \"recall\": recall,\n",
    "        \"f1\": f1,\n",
    "        \"roc_auc\": auc,\n",
    "        \"log_loss\": logloss,\n",
    "        \"confusion_matrix\": conf_matrix.tolist()  # Convert to list for logging\n",
    "    }\n",
    "\n",
    "# Set up TrainingArguments (default values omitted where possible)\n",
    "training_args = TrainingArguments(\n",
    "    output_dir=\"save_model\",\n",
    "    num_train_epochs=10,\n",
    "    per_device_train_batch_size=32,\n",
    "    per_device_eval_batch_size=64,\n",
    "    warmup_steps=500,\n",
    "    weight_decay=0.01,\n",
    "    load_best_model_at_end=True,\n",
    "    eval_strategy=\"epoch\",\n",
    "    metric_for_best_model=\"eval_loss\",\n",
    "    save_strategy=\"epoch\",\n",
    "    fp16=torch.cuda.is_available(),\n",
    "    report_to=\"none\"\n",
    ")\n",
    "\n",
    "# Create Trainer with early stopping callback\n",
    "trainer = Trainer(\n",
    "    model=model,\n",
    "    args=training_args,\n",
    "    train_dataset=dataset_tokenized['train'],\n",
    "    eval_dataset=dataset_tokenized['valid'],\n",
    "    processing_class=tokenizer,\n",
    "    compute_metrics=compute_metrics,\n",
    "    callbacks=[EarlyStoppingCallback(early_stopping_patience=3)]\n",
    ")\n",
    "\n",
    "# Set up optimizer and scheduler\n",
    "\n",
    "# AdamW optimizer is widely regarded as the industry standard.\n",
    "# AdamW is an adaptive optimizer that combines the benefits of the Adam\n",
    "# optimizer with weight decay regularization, which helps prevent overfitting\n",
    "optimizer = torch.optim.AdamW(model.parameters(), lr=training_args.learning_rate)\n",
    "\n",
    "# This scheduler linearly increases the learning rate during the warm-up phase\n",
    "# and then decreases it, which can lead to better convergence.\n",
    "scheduler = get_linear_schedule_with_warmup(\n",
    "    optimizer,\n",
    "    num_warmup_steps=training_args.warmup_steps,\n",
    "    num_training_steps=len(trainer.get_train_dataloader()) * training_args.num_train_epochs\n",
    ")\n",
    "trainer.optimizer = optimizer\n",
    "trainer.lr_scheduler = scheduler\n",
    "\n",
    "# Train the model\n",
    "start_time = time.time()\n",
    "trainer.train()\n",
    "end_time = time.time()\n",
    "training_time = end_time - start_time\n",
    "print(f\"Total training time: {training_time:.2f} seconds\")\n",
    "\n",
    "# Predict on the test set and evaluate F1 score\n",
    "pred_output = trainer.predict(dataset_tokenized['test'])\n",
    "y_pred = np.argmax(pred_output.predictions, axis=1)\n",
    "f1 = evaluate.load('f1').compute(predictions=y_pred, references=dataset_tokenized['test']['labels'])['f1']\n",
    "print(f\"F1 Score: {f1:.4f}\")"
   ]
  },
  {
   "cell_type": "code",
   "execution_count": null,
   "metadata": {
    "colab": {
     "base_uri": "https://localhost:8080/"
    },
    "id": "lBGb4glBESbD",
    "outputId": "c5f4bc4f-d394-425d-c9de-f07db81e8201"
   },
   "outputs": [
    {
     "name": "stdout",
     "output_type": "stream",
     "text": [
      "Test 1 Result: Phishing Email\n",
      "Test 2 Result: Safe Email\n"
     ]
    }
   ],
   "source": [
    "# Testing and Validating the PyTorch Model\n",
    "\n",
    "# Define a function to predict spam from raw text\n",
    "def predict_spam(text: str) -> str:\n",
    "    inputs = tokenizer(text, truncation=True, return_tensors=\"pt\").to(device)\n",
    "    with torch.no_grad():\n",
    "        logits = model(**inputs).logits\n",
    "    pred = logits.argmax().item()\n",
    "    return model.config.id2label[pred]\n",
    "\n",
    "# Run predictions\n",
    "test1result = predict_spam(\"you got a free credit click to this link to get it\")\n",
    "test2result = predict_spam(\"hey jack can you send me the invoice from yesterday\")\n",
    "\n",
    "# Print results\n",
    "print(f\"Test 1 Result: {test1result}\")\n",
    "print(f\"Test 2 Result: {test2result}\")"
   ]
  },
  {
   "cell_type": "code",
   "execution_count": null,
   "metadata": {
    "colab": {
     "base_uri": "https://localhost:8080/"
    },
    "id": "Z8lTRXd0EdTn",
    "outputId": "557ff274-f896-41ea-c7f2-69c2ffecf1b4"
   },
   "outputs": [
    {
     "name": "stdout",
     "output_type": "stream",
     "text": [
      "BERT Tokenizer saved to: /content/drive/My Drive/U599 Project/ONNX Utils/tokenizer-2\n",
      "ONNX model saved to: /content/drive/My Drive/U599 Project/ONNX Models/\n",
      "Result 1 ONNX model: Phishing Email | Same as Pytorch: True | Time taken: 0.03\n",
      "Result 2 ONNX model: Safe Email | Same as Pytorch: True | Time taken: 0.02\n"
     ]
    }
   ],
   "source": [
    "# ONNX Export and Inference\n",
    "\n",
    "# Prepare a sample input and move model to CPU for export\n",
    "inputs = tokenizer(\"Sample\", return_tensors=\"pt\", padding=True, truncation=True, max_length=128)\n",
    "model.to(\"cpu\")\n",
    "model.eval()\n",
    "\n",
    "onnx_file_name = \"nlp-model-2.onnx\"\n",
    "drive_path = '/content/drive/My Drive/U599 Project/ONNX Models/'\n",
    "\n",
    "# Define path to save the tokenizer\n",
    "tokenizer_path = \"/content/drive/My Drive/U599 Project/ONNX Utils/tokenizer-2\"\n",
    "\n",
    "# Save the tokenizer\n",
    "tokenizer.save_pretrained(tokenizer_path)\n",
    "print(f\"BERT Tokenizer saved to: {tokenizer_path}\")\n",
    "\n",
    "\n",
    "torch.onnx.export(\n",
    "    model,\n",
    "    (inputs[\"input_ids\"], inputs[\"attention_mask\"]),\n",
    "    onnx_file_name,\n",
    "    input_names=[\"input_ids\", \"attention_mask\"],\n",
    "    output_names=[\"logits\"],\n",
    "    dynamic_axes={\n",
    "        \"input_ids\": {0: \"batch_size\", 1: \"sequence_length\"},\n",
    "        \"attention_mask\": {0: \"batch_size\", 1: \"sequence_length\"},\n",
    "        \"logits\": {0: \"batch_size\"}\n",
    "    },\n",
    "    opset_version=14\n",
    ")\n",
    "\n",
    "# Verify the exported ONNX model\n",
    "onnx_model = onnx.load(onnx_file_name)\n",
    "onnx.checker.check_model(onnx_model)\n",
    "\n",
    "# Save the ONNX model to Google Drive\n",
    "os.makedirs(drive_path, exist_ok=True)\n",
    "shutil.copy(onnx_file_name, drive_path)\n",
    "print(f\"ONNX model saved to: {drive_path}\")\n",
    "\n",
    "# Load the ONNX model and test inference\n",
    "session = InferenceSession(onnx_file_name)\n",
    "\n",
    "# Onnx Inference function\n",
    "def predict_spam_onnx(text: str) -> str:\n",
    "    inputs = tokenizer(text, truncation=True, padding=True, return_tensors='pt')\n",
    "    ort_inputs = {\n",
    "        session.get_inputs()[0].name: inputs['input_ids'].cpu().numpy(),\n",
    "        session.get_inputs()[1].name: inputs['attention_mask'].cpu().numpy()\n",
    "    }\n",
    "    start_time = time.time()\n",
    "    ort_outs = session.run(None, ort_inputs)\n",
    "    end_time = time.time()\n",
    "    predicting_time = end_time - start_time\n",
    "\n",
    "    predicted_label_index = np.argmax(ort_outs[0], axis=1)[0]\n",
    "    predicted_label = model.config.id2label[predicted_label_index]\n",
    "    return predicted_label, predicting_time\n",
    "\n",
    "# Perform inference with ONNX Runtime on custom text\n",
    "custom_text = \"you got a free credit click to this link to get it\"\n",
    "predicted_label, predicting_time1 = predict_spam_onnx(custom_text)\n",
    "print(f\"Result 1 ONNX model: {predicted_label} | Same as Pytorch: {predicted_label==test1result} | Time taken: {predicting_time1:.2f}\")\n",
    "\n",
    "custom_text = \"hey jack can you send me the invoice from yesterday\"\n",
    "predicted_label, predicting_time2 = predict_spam_onnx(custom_text)\n",
    "print(f\"Result 2 ONNX model: {predicted_label} | Same as Pytorch: {predicted_label==test2result} | Time taken: {predicting_time2:.2f}\")\n",
    "\n",
    "prediction_time = predicting_time1 + predicting_time2 / 2"
   ]
  },
  {
   "cell_type": "code",
   "execution_count": null,
   "metadata": {
    "colab": {
     "base_uri": "https://localhost:8080/"
    },
    "id": "bMYDCpimXHKa",
    "outputId": "46e7d8ab-3d2b-4478-d379-7f806a4bcdf3"
   },
   "outputs": [
    {
     "name": "stdout",
     "output_type": "stream",
     "text": [
      "Metrics:\n",
      "Total training time: 1131.73 seconds (GPU)\n",
      "Total predicting time: 0.04 seconds\n",
      "Accuracy (F1 Score): 0.9806\n"
     ]
    }
   ],
   "source": [
    "print(\"Metrics:\")\n",
    "print(f\"Total training time: {training_time:.2f} seconds (GPU)\")\n",
    "print(f\"Total predicting time: {prediction_time:.2f} seconds\")\n",
    "print(f\"Accuracy (F1 Score): {f1:.4f}\")"
   ]
  },
  {
   "cell_type": "code",
   "execution_count": null,
   "metadata": {
    "colab": {
     "base_uri": "https://localhost:8080/"
    },
    "id": "5I3xOecwXswe",
    "outputId": "5cea6821-7ac8-4e9b-e1d4-54da6677f940"
   },
   "outputs": [
    {
     "name": "stdout",
     "output_type": "stream",
     "text": [
      "Drive already mounted at /content/drive; to attempt to forcibly remount, call drive.mount(\"/content/drive\", force_remount=True).\n"
     ]
    }
   ],
   "source": [
    "!pip install -q onnx onnxruntime\n",
    "from google.colab import drive\n",
    "import os\n",
    "import torch\n",
    "import onnx\n",
    "import numpy as np\n",
    "from onnxruntime import InferenceSession\n",
    "from transformers import AutoTokenizer\n",
    "\n",
    "drive.mount('/content/drive')\n",
    "\n",
    "# Define paths\n",
    "onnx_file_path = \"/content/drive/My Drive/U599 Project/ONNX Models/nlp-model.onnx\"\n",
    "tokenizer_path = \"/content/drive/My Drive/U599 Project/ONNX Utils/tokenizer\"\n",
    "\n",
    "# Load tokenizer\n",
    "tokenizer = AutoTokenizer.from_pretrained(tokenizer_path)\n",
    "\n",
    "# Load ONNX model\n",
    "session = InferenceSession(onnx_file_path)"
   ]
  },
  {
   "cell_type": "code",
   "execution_count": null,
   "metadata": {
    "colab": {
     "base_uri": "https://localhost:8080/"
    },
    "id": "NFWoPKdyXt6D",
    "outputId": "14ea43e7-3e0f-45d1-fadd-b4976605b7a9"
   },
   "outputs": [
    {
     "name": "stdout",
     "output_type": "stream",
     "text": [
      "Predicted Label: Phishing Email\n"
     ]
    }
   ],
   "source": [
    "# Define input text for prediction\n",
    "input_text = \"will u ever come to the company on time\"\n",
    "input_text = \"your university email is compromised. unlock your email by visiting badsite.com\"\n",
    "\n",
    "def predict_spam_onnx(text: str) -> str:\n",
    "    inputs = tokenizer(text, truncation=True, padding=True, return_tensors='pt')\n",
    "    ort_inputs = {\n",
    "        session.get_inputs()[0].name: inputs['input_ids'].cpu().numpy(),\n",
    "        session.get_inputs()[1].name: inputs['attention_mask'].cpu().numpy()\n",
    "    }\n",
    "    ort_outs = session.run(None, ort_inputs)\n",
    "    predicted_label_index = np.argmax(ort_outs[0], axis=1)[0]\n",
    "    id2label = {0: \"Safe Email\", 1: \"Phishing Email\"}\n",
    "    return id2label[predicted_label_index]\n",
    "\n",
    "# Perform prediction\n",
    "predicted_label = predict_spam_onnx(input_text)\n",
    "print(f\"Predicted Label: {predicted_label}\")"
   ]
  },
  {
   "cell_type": "code",
   "execution_count": null,
   "metadata": {
    "colab": {
     "base_uri": "https://localhost:8080/",
     "height": 487
    },
    "id": "XwLaqiDYjg5-",
    "outputId": "358facb1-e5df-4aa9-f17b-5a67e7171019"
   },
   "outputs": [
    {
     "data": {
      "image/png": "[encoded data removed]",
      "text/plain": [
       "<Figure size 600x500 with 2 Axes>"
      ]
     },
     "metadata": {},
     "output_type": "display_data"
    }
   ],
   "source": [
    "import numpy as np\n",
    "import seaborn as sns\n",
    "import matplotlib.pyplot as plt\n",
    "from sklearn.metrics import confusion_matrix\n",
    "\n",
    "# Your confusion matrix from Epoch 5\n",
    "conf_matrix = np.array([[988, 11], [9, 581]])\n",
    "\n",
    "# Define class labels\n",
    "labels = [\"Not Phishing\", \"Phishing\"]\n",
    "\n",
    "# Plot confusion matrix\n",
    "plt.figure(figsize=(6, 5))\n",
    "sns.heatmap(conf_matrix, annot=True, fmt=\"d\", cmap=\"Blues\", xticklabels=labels, yticklabels=labels)\n",
    "plt.xlabel(\"Predicted Label\")\n",
    "plt.ylabel(\"True Label\")\n",
    "plt.title(\"Confusion Matrix\")\n",
    "plt.show()\n"
   ]
  }
 ],
 "metadata": {
  "accelerator": "GPU",
  "colab": {
   "authorship_tag": "ABX9TyMNrNUB70lH6uHu11gWB2df",
   "gpuType": "T4",
   "include_colab_link": true,
   "provenance": []
  },
  "kernelspec": {
   "display_name": "Python 3",
   "name": "python3"
  },
  "language_info": {
   "name": "python"
  }
 },
 "nbformat": 4,
 "nbformat_minor": 0
}
